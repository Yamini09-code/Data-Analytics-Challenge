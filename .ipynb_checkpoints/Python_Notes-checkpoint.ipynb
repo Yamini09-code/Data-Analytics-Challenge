{
 "cells": [
  {
   "cell_type": "code",
   "execution_count": 14,
   "id": "552b4847",
   "metadata": {},
   "outputs": [
    {
     "name": "stdout",
     "output_type": "stream",
     "text": [
      "hello my name is Yamini Kaushal\n"
     ]
    }
   ],
   "source": [
    "#list, dictionary, tuple, set\n",
    "\n",
    "y = \"Yamini\"\n",
    "b = \"Kaushal\"\n",
    "print(\"hello my name is {} {}\".format(y ,b))\n"
   ]
  },
  {
   "cell_type": "code",
   "execution_count": 11,
   "id": "ea566214",
   "metadata": {},
   "outputs": [
    {
     "name": "stdout",
     "output_type": "stream",
     "text": [
      "my name is adit\n"
     ]
    }
   ],
   "source": [
    "a = \"adit\"\n",
    "print(f\"my name is {a}\")"
   ]
  },
  {
   "cell_type": "code",
   "execution_count": 15,
   "id": "b92a8659",
   "metadata": {},
   "outputs": [
    {
     "data": {
      "text/plain": [
       "6"
      ]
     },
     "execution_count": 15,
     "metadata": {},
     "output_type": "execute_result"
    }
   ],
   "source": [
    "len(\"Yamini\")"
   ]
  },
  {
   "cell_type": "code",
   "execution_count": 18,
   "id": "68596288",
   "metadata": {},
   "outputs": [
    {
     "data": {
      "text/plain": [
       "True"
      ]
     },
     "execution_count": 18,
     "metadata": {},
     "output_type": "execute_result"
    }
   ],
   "source": [
    "#logical operators with boolean\n",
    "\n",
    "True and False\n",
    "True or True"
   ]
  },
  {
   "cell_type": "code",
   "execution_count": 19,
   "id": "0f39da83",
   "metadata": {},
   "outputs": [
    {
     "data": {
      "text/plain": [
       "False"
      ]
     },
     "execution_count": 19,
     "metadata": {},
     "output_type": "execute_result"
    }
   ],
   "source": [
    "not True"
   ]
  },
  {
   "cell_type": "code",
   "execution_count": null,
   "id": "ee5760a1",
   "metadata": {},
   "outputs": [],
   "source": [
    "#list is a mutable, hetereogeneous, ordered sequence of items\n",
    "#list() is a built-in function used to create a new list object. It can be used to convert other iterable data types like tuples, strings, or sets into a list."
   ]
  },
  {
   "cell_type": "code",
   "execution_count": 22,
   "id": "f6e40ddd",
   "metadata": {},
   "outputs": [
    {
     "data": {
      "text/plain": [
       "[]"
      ]
     },
     "execution_count": 22,
     "metadata": {},
     "output_type": "execute_result"
    }
   ],
   "source": [
    "list()"
   ]
  },
  {
   "cell_type": "code",
   "execution_count": 39,
   "id": "8eeb5ad6",
   "metadata": {},
   "outputs": [
    {
     "data": {
      "text/plain": [
       "[1, 'Hello', 56.4]"
      ]
     },
     "execution_count": 39,
     "metadata": {},
     "output_type": "execute_result"
    }
   ],
   "source": [
    "l = [1,\"Hello\", 56.4]\n",
    "l"
   ]
  },
  {
   "cell_type": "code",
   "execution_count": 40,
   "id": "4a861e3e",
   "metadata": {},
   "outputs": [
    {
     "data": {
      "text/plain": [
       "[1, 'Hello', 56.4, 'Krish']"
      ]
     },
     "execution_count": 40,
     "metadata": {},
     "output_type": "execute_result"
    }
   ],
   "source": [
    "l.append('Krish')\n",
    "l"
   ]
  },
  {
   "cell_type": "code",
   "execution_count": 50,
   "id": "7c8b18d4",
   "metadata": {},
   "outputs": [
    {
     "data": {
      "text/plain": [
       "'Mini'"
      ]
     },
     "execution_count": 50,
     "metadata": {},
     "output_type": "execute_result"
    }
   ],
   "source": [
    "#indexing\n",
    "l[2]"
   ]
  },
  {
   "cell_type": "code",
   "execution_count": 43,
   "id": "ebacdf3f",
   "metadata": {},
   "outputs": [],
   "source": [
    "l.insert(2,\"Mini\")"
   ]
  },
  {
   "cell_type": "code",
   "execution_count": 49,
   "id": "f0aff875",
   "metadata": {},
   "outputs": [
    {
     "data": {
      "text/plain": [
       "[1, 'Hello', 'Mini', 56.4, 'Krish', [4, 5], [4, 5]]"
      ]
     },
     "execution_count": 49,
     "metadata": {},
     "output_type": "execute_result"
    }
   ],
   "source": [
    "l"
   ]
  },
  {
   "cell_type": "code",
   "execution_count": 51,
   "id": "18f05120",
   "metadata": {},
   "outputs": [],
   "source": [
    "l.append([4,5])"
   ]
  },
  {
   "cell_type": "code",
   "execution_count": 52,
   "id": "c8b971c7",
   "metadata": {},
   "outputs": [
    {
     "data": {
      "text/plain": [
       "[1, 'Hello', 'Mini', 56.4, 'Krish', [4, 5], [4, 5], [4, 5]]"
      ]
     },
     "execution_count": 52,
     "metadata": {},
     "output_type": "execute_result"
    }
   ],
   "source": [
    "l"
   ]
  },
  {
   "cell_type": "code",
   "execution_count": 54,
   "id": "2d66a415",
   "metadata": {},
   "outputs": [
    {
     "data": {
      "text/plain": [
       "[1, 'Hello', 'Mini', 56.4, 'Krish', [4, 5], [4, 5], [4, 5], 80, 'Kumar']"
      ]
     },
     "execution_count": 54,
     "metadata": {},
     "output_type": "execute_result"
    }
   ],
   "source": [
    "l.extend([80, \"Kumar\"])\n",
    "l\n"
   ]
  },
  {
   "cell_type": "code",
   "execution_count": 58,
   "id": "68f395a8",
   "metadata": {},
   "outputs": [
    {
     "data": {
      "text/plain": [
       "95"
      ]
     },
     "execution_count": 58,
     "metadata": {},
     "output_type": "execute_result"
    }
   ],
   "source": [
    "l = [5, 20, 70]\n",
    "sum(l)"
   ]
  },
  {
   "cell_type": "code",
   "execution_count": 59,
   "id": "dbe94d3a",
   "metadata": {},
   "outputs": [
    {
     "data": {
      "text/plain": [
       "70"
      ]
     },
     "execution_count": 59,
     "metadata": {},
     "output_type": "execute_result"
    }
   ],
   "source": [
    "l.pop()"
   ]
  },
  {
   "cell_type": "code",
   "execution_count": 60,
   "id": "accb07eb",
   "metadata": {},
   "outputs": [
    {
     "data": {
      "text/plain": [
       "[5, 20]"
      ]
     },
     "execution_count": 60,
     "metadata": {},
     "output_type": "execute_result"
    }
   ],
   "source": [
    "l"
   ]
  },
  {
   "cell_type": "code",
   "execution_count": 62,
   "id": "f3b2c13b",
   "metadata": {},
   "outputs": [
    {
     "data": {
      "text/plain": [
       "[20]"
      ]
     },
     "execution_count": 62,
     "metadata": {},
     "output_type": "execute_result"
    }
   ],
   "source": [
    "l.pop(0)\n",
    "l"
   ]
  },
  {
   "cell_type": "code",
   "execution_count": 64,
   "id": "053dfcb8",
   "metadata": {},
   "outputs": [
    {
     "data": {
      "text/plain": [
       "[20, 20]"
      ]
     },
     "execution_count": 64,
     "metadata": {},
     "output_type": "execute_result"
    }
   ],
   "source": [
    "#list gets appended in itself that many times\n",
    "l*2"
   ]
  },
  {
   "cell_type": "code",
   "execution_count": 65,
   "id": "bcd3c625",
   "metadata": {},
   "outputs": [
    {
     "data": {
      "text/plain": [
       "7"
      ]
     },
     "execution_count": 65,
     "metadata": {},
     "output_type": "execute_result"
    }
   ],
   "source": [
    "lst = [1,3,2,3,4,5,6,7]\n",
    "max(lst)"
   ]
  },
  {
   "cell_type": "code",
   "execution_count": 66,
   "id": "c9886797",
   "metadata": {},
   "outputs": [
    {
     "data": {
      "text/plain": [
       "1"
      ]
     },
     "execution_count": 66,
     "metadata": {},
     "output_type": "execute_result"
    }
   ],
   "source": [
    "min(lst)"
   ]
  },
  {
   "cell_type": "code",
   "execution_count": 67,
   "id": "9a5a576d",
   "metadata": {},
   "outputs": [
    {
     "data": {
      "text/plain": [
       "2"
      ]
     },
     "execution_count": 67,
     "metadata": {},
     "output_type": "execute_result"
    }
   ],
   "source": [
    "lst.count(3)"
   ]
  },
  {
   "cell_type": "code",
   "execution_count": 68,
   "id": "a6f90411",
   "metadata": {},
   "outputs": [
    {
     "data": {
      "text/plain": [
       "8"
      ]
     },
     "execution_count": 68,
     "metadata": {},
     "output_type": "execute_result"
    }
   ],
   "source": [
    "len(lst)"
   ]
  },
  {
   "cell_type": "code",
   "execution_count": 69,
   "id": "87c38795",
   "metadata": {},
   "outputs": [
    {
     "data": {
      "text/plain": [
       "1"
      ]
     },
     "execution_count": 69,
     "metadata": {},
     "output_type": "execute_result"
    }
   ],
   "source": [
    "lst.index(3)"
   ]
  },
  {
   "cell_type": "code",
   "execution_count": 72,
   "id": "54a7caf5",
   "metadata": {},
   "outputs": [
    {
     "data": {
      "text/plain": [
       "4"
      ]
     },
     "execution_count": 72,
     "metadata": {},
     "output_type": "execute_result"
    }
   ],
   "source": [
    "#returns the index of first occurence of value, start and end range is optional. 4 here is value and 3, 7 are parameters\n",
    "lst.index(4,3,7)"
   ]
  },
  {
   "cell_type": "code",
   "execution_count": 75,
   "id": "e45d00f6",
   "metadata": {},
   "outputs": [
    {
     "name": "stdout",
     "output_type": "stream",
     "text": [
      "set()\n"
     ]
    },
    {
     "data": {
      "text/plain": [
       "set"
      ]
     },
     "execution_count": 75,
     "metadata": {},
     "output_type": "execute_result"
    }
   ],
   "source": [
    "#Set is an unorder collection, iterable, mutable, no duplicates \n",
    "\n",
    "set_var = set()\n",
    "print(set_var)\n",
    "type(set_var)\n",
    "\n"
   ]
  },
  {
   "cell_type": "code",
   "execution_count": 78,
   "id": "fce645f2",
   "metadata": {},
   "outputs": [
    {
     "data": {
      "text/plain": [
       "{1, 2, 3, 4}"
      ]
     },
     "execution_count": 78,
     "metadata": {},
     "output_type": "execute_result"
    }
   ],
   "source": [
    "set_var = {1,2,3,4,4}\n",
    "set_var"
   ]
  },
  {
   "cell_type": "code",
   "execution_count": 84,
   "id": "ec9f3034",
   "metadata": {},
   "outputs": [
    {
     "data": {
      "text/plain": [
       "{'Avenger', 'Hitman', 'Ironman', 'Wonderwoman'}"
      ]
     },
     "execution_count": 84,
     "metadata": {},
     "output_type": "execute_result"
    }
   ],
   "source": [
    "set_var = {\"Avenger\", \"Ironman\",\"Hitman\"}\n",
    "set_var.add(\"Wonderwoman\")\n",
    "set_var"
   ]
  },
  {
   "cell_type": "code",
   "execution_count": 88,
   "id": "530cfdcb",
   "metadata": {},
   "outputs": [
    {
     "data": {
      "text/plain": [
       "{'Hulk'}"
      ]
     },
     "execution_count": 88,
     "metadata": {},
     "output_type": "execute_result"
    }
   ],
   "source": [
    "set1 = {\"Avenger\", \"Ironman\",\"Hitman\"}\n",
    "set2 = {\"Avenger\", \"Ironman\",\"Hitman\",\"Hulk\"}\n",
    "\n",
    "#difference\n",
    "\n",
    "set2.difference(set1)\n"
   ]
  },
  {
   "cell_type": "code",
   "execution_count": null,
   "id": "2b735c29",
   "metadata": {},
   "outputs": [],
   "source": []
  },
  {
   "cell_type": "code",
   "execution_count": null,
   "id": "747c6a1d",
   "metadata": {},
   "outputs": [],
   "source": []
  },
  {
   "cell_type": "code",
   "execution_count": null,
   "id": "df574034",
   "metadata": {},
   "outputs": [],
   "source": []
  },
  {
   "cell_type": "code",
   "execution_count": null,
   "id": "20de047a",
   "metadata": {},
   "outputs": [],
   "source": []
  },
  {
   "cell_type": "code",
   "execution_count": null,
   "id": "5e51425a",
   "metadata": {},
   "outputs": [],
   "source": []
  },
  {
   "cell_type": "code",
   "execution_count": null,
   "id": "1e125fdb",
   "metadata": {},
   "outputs": [],
   "source": []
  },
  {
   "cell_type": "code",
   "execution_count": null,
   "id": "7b5031c1",
   "metadata": {},
   "outputs": [],
   "source": []
  },
  {
   "cell_type": "code",
   "execution_count": null,
   "id": "cd03aa3b",
   "metadata": {},
   "outputs": [],
   "source": []
  }
 ],
 "metadata": {
  "kernelspec": {
   "display_name": "Python 3 (ipykernel)",
   "language": "python",
   "name": "python3"
  },
  "language_info": {
   "codemirror_mode": {
    "name": "ipython",
    "version": 3
   },
   "file_extension": ".py",
   "mimetype": "text/x-python",
   "name": "python",
   "nbconvert_exporter": "python",
   "pygments_lexer": "ipython3",
   "version": "3.11.4"
  }
 },
 "nbformat": 4,
 "nbformat_minor": 5
}
